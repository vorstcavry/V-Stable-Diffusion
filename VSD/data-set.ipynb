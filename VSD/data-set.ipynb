# The given cell will load repo files, models, and more
print("Mempersiapkan Stable Diffusion")
!git clone https://github.com/AUTOMATIC1111/stable-diffusion-webui /home/studio-lab-user/content/sdw
!git clone https://github.com/vorstcavry/ncpt_colab_timer /home/studio-lab-user/content/sdw/extensions/ncpt_colab_timer
!git clone https://github.com/vorstcavry/static /home/studio-lab-user/content/sdw/static


# ==============================================
print("MengUpdate dependencies, Mungkin memerlukan waktu yang agak lama....")
!pip install -q --upgrade torchsde
print("MengUpdate dependencies, [Proses 9%]....")
!pip install -q --upgrade pip
print("MengUpdate dependencies, [Proses 16%]....")
!pip install -q --upgrade psutil
print("MengUpdate dependencies, [Proses 19%]....")
import os
import re
import time
import json
import shutil
import subprocess
from datetime import timedelta
from subprocess import getoutput
from urllib.parse import unquote
from IPython.utils import capture
from IPython.display import clear_output
SETTINGS_FILE = '/home/studio-lab-user/content/settings_vorstcavry.json'
def load_settings():
    if os.path.exists(SETTINGS_FILE):
        with open(SETTINGS_FILE, 'r') as f:
            settings = json.load(f)
        return settings

settings = load_settings()
# CONFIG DIR
webui_path = "/home/studio-lab-user/content/sdw"
root_path = "/home/studio-lab-user/content"

models_dir = f"{webui_path}/models/Stable-diffusion/"
vaes_dir = f"{webui_path}/models/VAE/"
embeddings_dir = f"{webui_path}/embeddings/"
loras_dir = f"{webui_path}/models/Lora/"
extensions_dir = f"{webui_path}/extensions/"
control_dir = f"{webui_path}/models/ControlNet/"
clear_output()
# ================= time =================
try:
    start_colab
except:
    start_colab = int(time.time())-5

!echo -n {start_colab} > {webui_path}/static/colabTimer.txt
# ================ LIBRARIES ================
flag_file = "/home/studio-lab-user/content/libraries_installed.txt"


def ass(command, message, color):
    display(HTML(f"<span style='color:{color};'>・・・ {message} ・・・</span>"))
    result = subprocess.run(command, shell=True, stdout=subprocess.DEVNULL, stderr=subprocess.DEVNULL)
    print("done")
ass('conda install -q -y conda=23.11.0 glib', 'Installing Conda', 'cyan')
ass('conda install -q -y -n base python=3.10.12', 'Installing Python 3.10.12', '#D48900')
ass('conda install -q -y aria2', 'Installing Aria2', 'green')
ass('conda clean -y --all', 'Cleaning Conda Environment', '#66ff00')
ass('pip install -q torch==2.0.1+cu118 torchvision==0.15.2+cu118 --extra-index-url https://download.pytorch.org/whl/cu118', 'Installing Torch', 'magenta')
ass('pip install -q xformers==0.0.20 triton==2.0.0 psutil', 'Installing xformers', 'orange')
ass('pip install -q git+https://github.com/Linaqruf/colablib', 'Installing colablib', 'white')
ass('curl -Lo ~/.ipython/profile_default/startup/pantat88.py https://github.com/gutris1/segsmaker/raw/main/ui/pantat88.py', 'Gathering Magic', 'red')
get_ipython().kernel.do_shutdown(True)


from colablib.utils.py_utils import get_filename
from typing import List, Optional
from colablib.colored_print import cprint, print_line
from colablib.utils import py_utils, config_utils, package_utils
from colablib.utils.config_utils import pastebin_reader as read
from colablib.utils.ubuntu_utils import ubuntu_deps
from colablib.sd_models.downloader import aria2_download, download, get_modelname
from colablib.utils.ubuntu_utils import unionfuse
from colablib.utils.config_utils import read_config
from colablib.utils.git_utils import clone_repo
from colablib.utils.git_utils import update_repo, batch_update, validate_repo, reset_repo, patch_repo


# model
Model = settings['Model']
Model_Num = settings['Model_Num']
Inpainting_Model = settings['Inpainting_Model']
# vae
Vae = settings['Vae']
Vae_Num = settings['Vae_Num']
# additional
latest_webui = settings['latest_webui']
latest_exstensions = settings['latest_exstensions']
webui_branch = settings['webui_branch']
detailed_download = settings['detailed_download']
controlnet = settings['controlnet']
controlnet_Num = settings['controlnet_Num']
commit_hash = settings['commit_hash']
ngrok_token = settings['ngrok_token']
commandline_arguments = settings['commandline_arguments']
# custom download
Model_url = settings['Model_url']
Vae_url = settings['Vae_url']
LoRA_url = settings['LoRA_url']
Embedding_url = settings['Embedding_url']
Extensions_url = settings['Extensions_url']
# ================= loading settings V3 =================

# ================= MAIN CODE =================
def git_clone(url, folder_path):
    os.makedirs(folder_path, exist_ok=True)
    subprocess.run(['git', 'clone', url, folder_path])

def git_checkout(commit_hash, folder_path):
    os.chdir(folder_path)
    subprocess.run(['git', 'checkout', commit_hash])

def delete_directory(path):
    try:
        os.system(f"rm -rf {path}")
    except Exception as e:
        print(f"nothing: {str(e)}")


def download(url, destination_folder="."):
    command = f"aria2c --console-log-level=error -c -x 16 -s 16 -k 1M -d {destination_folder} {url}"

    try:
        subprocess.run(command, shell=True, check=True)
        print("Download selesai.")
    except subprocess.CalledProcessError as e:
        print(f"Error during download: {e}")



# ================= MAIN CODE =================

# ================= MAIN CODE =================

%cd /home/studio-lab-user/content/sdw
folder_path = '/home/studio-lab-user/content/sdw'
commit_hash = '4afaaf8a020c1df457bcf7250cb1c7f609699fa7'
git_checkout(commit_hash, folder_path)
url = "https://huggingface.co/vorstcavry/v/resolve/main/JetBrainsMono-Regular.woff2"
destination_folder = "/home/studio-lab-user/content/sdw"
download(url, destination_folder)
url = "https://huggingface.co/vorstcavry/v/resolve/main/notification.mp3"
destination_folder = "/home/studio-lab-user/content/sdw"
download(url, destination_folder)
url = "https://huggingface.co/spaces/vorstcavry/stable-diffusion-webui/resolve/main/config.json"
destination_folder = "/home/studio-lab-user/content/sdw"
download(url, destination_folder)
url = "https://huggingface.co/vorstcavry/v/resolve/main/styles.csv"
destination_folder = "/home/studio-lab-user/content/sdw"
download(url, destination_folder)
url = "https://huggingface.co/vorstcavry/v/resolve/main/styles.csv.bak"
destination_folder = "/home/studio-lab-user/content/sdw"
download(url, destination_folder)
cprint("Mempersiapkan VAE default", color='flat_green')
url = 'https://github.com/vorstcavry/embeddings'
folder_path = '/home/studio-lab-user/content/sdw/embeddings/negatif'
git_clone(url, folder_path)
cprint("Mempersiapkan Embeddings Negatif", color='flat_green')
!rm -rf /home/studio-lab-user/content/sdw/embeddings/negatif/.git
url = 'https://github.com/vorstcavry/static'
folder_path = '/home/studio-lab-user/content/sdw/static'
git_clone(url, folder_path)
url = 'https://github.com/vorstcavry/ncpt_colab_timer'
folder_path = '/home/studio-lab-user/content/sdw/extensions/ncpt_colab_timer'
git_clone(url, folder_path)

clear_output()

%cd /home/studio-lab-user/content/sdw/extensions
!git clone -q --depth 1 https://github.com/vorstcavry/images-browser
!git clone -q --depth 1 https://github.com/DominikDoom/a1111-sd-webui-tagcomplete
!git clone -q --depth 1 https://github.com/EdithForsaken/batchlinks
!git clone -q --depth 1 https://github.com/EdithForsaken/sd-model-downloader
!git clone -q --depth 1 https://github.com/EdithForsaken/sd-webui-model-downloader-cn
#!git clone -q --depth 1 https://github.com/NoCrypt/sd_hf_out
!git clone -q --depth 1 https://tinyurl.com/additional-networks-s
!git clone -q --depth 1 https://github.com/NoCrypt/inpaint-nav
!git clone -q --depth 1 https://github.com/BlafKing/sd-civitai-browser-plus
#!git clone -q --depth 1 https://github.com/SignalFlagZ/sd-webui-civbrowser
!git clone -q --depth 1 https://tinyurl.com/aspect-ratio-v
!git clone -q --depth 1 https://github.com/Mikubill/sd-webui-controlnet
!git clone -q --depth 1 https://github.com/Bing-su/adetailer
!git clone -q --depth 1 https://tinyurl.com/depth-lib-hand
!git clone -q --depth 1 https://github.com/IDEA-Research/DWPose
!git clone -q --depth 1 https://github.com/fkunn1326/openpose-editor
!git clone -q --depth 1 https://tinyurl.com/openpose-edit
!git clone -q --depth 1 https://github.com/etherealxx/batchlinks-webui
!git clone -q --depth 1 https://github.com/ahgsql/StyleSelectorXL
#!git clone -q --depth 1 https://github.com/zanllp/sd-webui-infinite-image-browsing
!git clone -q --depth 1 https://github.com/vorstcavry/sd-webui-cloud-inference
!git clone -q --depth 1 https://github.com/mcmonkeyprojects/sd-dynamic-thresholding 1sd-dynamic-thresholding
!git clone -q https://github.com/Gourieff/sd-webui-reactor 2sd-webui-reactor
!git clone -q --depth 1 https://github.com/portu-sim/sd-webui-bmab 3sd-webui-bmab
!git clone -q --depth 1 https://github.com/Bing-su/adetailer 4adetailer
!git clone -q --depth 1 https://github.com/zixaphir/Stable-Diffusion-Webui-Civitai-Helper

clear_output()
%cd {root_path}
os.environ["SAFETENSORS_FAST_GPU"]='1'
os.environ["CUDA_MODULE_LOADING"]="LAZY"
os.environ["TF_CPP_MIN_LOG_LEVEL"] = "3"
os.environ["PYTHONWARNINGS"] = "ignore"
os.environ["TCMALLOC_AGGRESSIVE_DECOMMIT"] = "t"
start_colab = float(open('/home/studio-lab-user/content/sdw/static/colabTimer.txt', 'r').read())
time_since_start = str(timedelta(seconds=time.time()-start_colab)).split('.')[0]
print(f"\n⌚️ \033[96;1mWaktu yang diperlukan untuk mempersiapkan Ekstension -  \033[93;2m{time_since_start}\033[96m\n\n")


################################################################################################################################
## Changes extensions and WebUi
################################################################################################################################
if latest_webui or latest_exstensions:
    action = "Update WebUI dan Extensions" if latest_webui and latest_exstensions else ("WebUI Update" if latest_webui else "Update Extensions")
    print(f"⌚️ {action}...", end='', flush=True)
    with capture.capture_output() as cap:
        !git config --global user.email "you@example.com"
        !git config --global user.name "Your Name"

        ## Update Webui
        if latest_webui:
            %cd {webui_path}
            !git restore .
            !git pull -X theirs --rebase --autostash

        ## Update extensions
        if latest_exstensions:
            !{'for dir in /home/studio-lab-user/content/sdw/extensions/*/; do cd "$dir" && git fetch origin && git pull; done'}

        !cd /home/studio-lab-user/content/sdw/repositories/stable-diffusion-stability-ai && git restore .
    del cap
    print(f"\r✨ {action} Completed!")

if webui_branch != "master":
    print(f'⌚ Mengganti branch ke {webui_branch}', end="", flush=True)
    with capture.capture_output() as cap:
        !git restore .
        !git checkout {branch}
        !git pull
    print(f'\r🔮 Anda saat ini sedang menggunakan "{webui_branch}" branch - webui.')

################################################################################################################################
## Version rollback...
################################################################################################################################
if commit_hash:
    print('⏳ Pengaktifan mesin waktu...', end="", flush=True)
    with capture.capture_output() as cap:
        %cd {webui_path}
        !git config --global user.email "you@example.com"
        !git config --global user.name "Your Name"
        !git reset --hard {commit_hash}
    del cap
    print(f"\r⌛️ Mesin waktu telah diaktifkan! commit saat ini: \033[95;1m{commit_hash}\033[97m")


## Downloading model and stuff | Oh, it's getting smaller. | CivitAi, you're bad ;<
print("📦 Mendownload models and Bahan-bahan Lainnya...", end='')
model_list = {
    "1.SomethingV2_2": [
        {"url": "https://huggingface.co/NoCrypt/SomethingV2_2/resolve/main/SomethingV2_2.safetensors", "name": "SomethingV2_2.safetensors"},
    ],
    "2.Aingdiffusion": [
        {"url": "https://huggingface.co/digiplay/AingDiffusion8.17/resolve/main/aingdiffusion_v817.safetensors", "name": "aingdiffusion_v817.safetensors"},
    ],
    "3.Counterfeit [Anime] [V3] + INP": [
        {"url": "https://civitai.com/api/download/models/125050", "name": "Counterfeit_V3.safetensors"},
        {"url": "https://civitai.com/api/download/models/137911", "name": "Counterfeit_V3-inpainting.safetensors"}
    ],
    "4.ChilloutMix": [
        {"url": "https://huggingface.co/AnonPerson/ChilloutMix/resolve/main/ChilloutMix-ni-fp16.safetensors", "name": "ChilloutMix-ni-fp16.safetensors"}
    ],
    "5.Dark-Sushi-Mix [Anime]": [
        {"url": "https://civitai.com/api/download/models/101640", "name": "DarkSushiMix_2_5D.safetensors"},
        {"url": "https://civitai.com/api/download/models/56071", "name": "DarkSushiMix_colorful.safetensors"}
    ],
    "6.Meina-Mix [Anime] [V11] + INP": [
        {"url": "https://civitai.com/api/download/models/119057", "name": "MeinaMix_V11.safetensors"},
        {"url": "https://civitai.com/api/download/models/120702", "name": "MeinaMix_V11-inpainting.safetensors"}
    ],
    "7.Mix-Pro [Anime] [V4] + INP": [
        {"url": "https://civitai.com/api/download/models/125668", "name": "MixPro_V4.safetensors"},
        {"url": "https://civitai.com/api/download/models/139878", "name": "MixPro_V4-inpainting.safetensors"}
    ],
    "8.MajicmixRealistic V6]": [
        {"url": "https://huggingface.co/digiplay/majicMIX_realistic_v6/resolve/main/majicmixRealistic_v6.safetensors", "name": "majicmixRealistic_v6.safetensors"}
    ],
    "9.FuzzyHazel": [
        {"url": "https://huggingface.co/Lucetepolis/FuzzyHazel/resolve/main/FuzzyHazel.safetensors", "name": "FuzzyHazel.safetensors"}
    ]
}

vae_list = {
    "1.Anything.vae": [{"url": "https://huggingface.co/NoCrypt/resources/resolve/main/VAE/any.vae.safetensors", "name": "Anything.vae.safetensors"}],
    "2.blessed2.vae": [{"url": "https://huggingface.co/NoCrypt/resources/resolve/main/VAE/blessed2.vae.safetensors", "name": "Blessed2.vae.safetensors"}],
    "3.WD.vae": [{"url": "https://huggingface.co/NoCrypt/resources/resolve/main/VAE/wd.vae.safetensors", "name": "WD.vae.safetensors"}]
}

controlnet_model_list = {
    "1.canny": [
        {"url": "https://huggingface.co/ckpt/ControlNet-v1-1/resolve/main/control_v11p_sd15_canny_fp16.safetensors", "name": "control_v11p_sd15_canny_fp16.safetensors"},
        {"url": "https://huggingface.co/ckpt/ControlNet-v1-1/raw/main/control_v11p_sd15_canny_fp16.yaml", "name": "control_v11p_sd15_canny_fp16.yaml"}
    ],
    "2.openpose": [
        {"url": "https://huggingface.co/ckpt/ControlNet-v1-1/resolve/main/control_v11p_sd15_openpose_fp16.safetensors", "name": "control_v11p_sd15_openpose_fp16.safetensors"},
        {"url": "https://huggingface.co/ckpt/ControlNet-v1-1/raw/main/control_v11p_sd15_openpose_fp16.yaml", "name": "control_v11p_sd15_openpose_fp16.yaml"}
    ],
    "3.depth": [
        {"url": "https://huggingface.co/ckpt/ControlNet-v1-1/resolve/main/control_v11f1p_sd15_depth_fp16.safetensors", "name": "control_v11f1p_sd15_depth_fp16.safetensors"},
        {"url": "https://huggingface.co/ckpt/ControlNet-v1-1/raw/main/control_v11f1p_sd15_depth_fp16.yaml", "name": "control_v11f1p_sd15_depth_fp16.yaml"}
    ],
    "4.normal_map": [
        {"url": "https://huggingface.co/ckpt/ControlNet-v1-1/resolve/main/control_v11p_sd15_normalbae_fp16.safetensors", "name": "control_v11p_sd15_normalbae_fp16.safetensors"},
        {"url": "https://huggingface.co/ckpt/ControlNet-v1-1/raw/main/control_v11p_sd15_normalbae_fp16.yaml", "name": "control_v11p_sd15_normalbae_fp16.yaml"}
    ],
    "5.mlsd": [
        {"url": "https://huggingface.co/ckpt/ControlNet-v1-1/resolve/main/control_v11p_sd15_mlsd_fp16.safetensors", "name": "control_v11p_sd15_mlsd_fp16.safetensors"},
        {"url": "https://huggingface.co/ckpt/ControlNet-v1-1/raw/main/control_v11p_sd15_mlsd_fp16.yaml", "name": "control_v11p_sd15_mlsd_fp16.yaml"}
    ],
    "6.lineart": [
        {"url": "https://huggingface.co/ckpt/ControlNet-v1-1/resolve/main/control_v11p_sd15_lineart_fp16.safetensors", "name": "control_v11p_sd15_lineart_fp16.safetensors"},
        {"url": "https://huggingface.co/ckpt/ControlNet-v1-1/resolve/main/control_v11p_sd15s2_lineart_anime_fp16.safetensors", "name": "control_v11p_sd15s2_lineart_anime_fp16.safetensors"},
        {"url": "https://huggingface.co/ckpt/ControlNet-v1-1/raw/main/control_v11p_sd15_lineart_fp16.yaml", "name": "control_v11p_sd15_lineart_fp16.yaml"},
        {"url": "https://huggingface.co/ckpt/ControlNet-v1-1/raw/main/control_v11p_sd15s2_lineart_anime_fp16.yaml", "name": "control_v11p_sd15s2_lineart_anime_fp16.yaml"}
    ],
    "7.soft_edge": [
        {"url": "https://huggingface.co/ckpt/ControlNet-v1-1/resolve/main/control_v11p_sd15_softedge_fp16.safetensors", "name": "control_v11p_sd15_softedge_fp16.safetensors"},
        {"url": "https://huggingface.co/ckpt/ControlNet-v1-1/raw/main/control_v11p_sd15_softedge_fp16.yaml", "name": "control_v11p_sd15_softedge_fp16.yaml"}
    ],
    "8.scribble": [
        {"url": "https://huggingface.co/ckpt/ControlNet-v1-1/resolve/main/control_v11p_sd15_scribble_fp16.safetensors", "name": "control_v11p_sd15_scribble_fp16.safetensors"},
        {"url": "https://huggingface.co/ckpt/ControlNet-v1-1/raw/main/control_v11p_sd15_scribble_fp16.yaml", "name": "control_v11p_sd15_scribble_fp16.yaml"}
    ],
    "9.segmentation": [
        {"url": "https://huggingface.co/ckpt/ControlNet-v1-1/resolve/main/control_v11p_sd15_seg_fp16.safetensors", "name": "control_v11p_sd15_seg_fp16.safetensors"},
        {"url": "https://huggingface.co/ckpt/ControlNet-v1-1/raw/main/control_v11p_sd15_seg_fp16.yaml", "name": "control_v11p_sd15_seg_fp16.yaml"}
    ],
    "10.shuffle": [
        {"url": "https://huggingface.co/ckpt/ControlNet-v1-1/resolve/main/control_v11e_sd15_shuffle_fp16.safetensors", "name": "control_v11e_sd15_shuffle_fp16.safetensors"},
        {"url": "https://huggingface.co/ckpt/ControlNet-v1-1/raw/main/control_v11e_sd15_shuffle_fp16.yaml", "name": "control_v11e_sd15_shuffle_fp16.yaml"}
    ],
    "11.tile": [
        {"url": "https://huggingface.co/ckpt/ControlNet-v1-1/resolve/main/control_v11f1e_sd15_tile_fp16.safetensors", "name": "control_v11f1e_sd15_tile_fp16.safetensors"},
        {"url": "https://huggingface.co/ckpt/ControlNet-v1-1/raw/main/control_v11f1e_sd15_tile_fp16.yaml", "name": "control_v11f1e_sd15_tile_fp16.yaml"}
    ],
    "12.inpaint": [
        {"url": "https://huggingface.co/ckpt/ControlNet-v1-1/resolve/main/control_v11p_sd15_inpaint_fp16.safetensors", "name": "control_v11p_sd15_inpaint_fp16.safetensors"},
        {"url": "https://huggingface.co/ckpt/ControlNet-v1-1/raw/main/control_v11p_sd15_inpaint_fp16.yaml", "name": "control_v11p_sd15_inpaint_fp16.yaml"}
    ],
    "13.instruct_p2p": [
        {"url": "https://huggingface.co/ckpt/ControlNet-v1-1/resolve/main/control_v11e_sd15_ip2p_fp16.safetensors", "name": "control_v11e_sd15_ip2p_fp16.safetensors"},
        {"url": "https://huggingface.co/ckpt/ControlNet-v1-1/raw/main/control_v11e_sd15_ip2p_fp16.yaml", "name": "control_v11e_sd15_ip2p_fp16.yaml"}
    ]
}

extension_repo = []
prefixes = [
    "model:",
    "vae:",
    "lora:",
    "embeddings:",
    "extensions:"
]

url = ""

def handle_manual(url):
    original_url = url
    url = url[url.find(':') + 1:]
    file_name_match = re.search(r'\[(.*?)\]', original_url)
    file_name = file_name_match.group(1) if file_name_match else None

    if file_name:
        url = re.sub(r'\[.*?\]', '', url)

    if original_url.startswith("model:"):
        manual_download(url, models_dir, file_name=file_name)
    elif original_url.startswith("vae:"):
        manual_download(url, vaes_dir, file_name=file_name)
    elif original_url.startswith("lora:"):
        manual_download(url, loras_dir, file_name=file_name)
    elif original_url.startswith("embeddings:"):
        manual_download(url, embeddings_dir, file_name=file_name)
    elif original_url.startswith("extensions:"):
        extension_repo.append((url, file_name))

def manual_download(url, dst_dir, file_name):
    basename = url.split("/")[-1] if file_name is None else file_name

    if 'drive.google' in url:
        if 'folders' in url:
            !gdown --folder "{url}" -O {dst_dir} --fuzzy -c
        else:
            !gdown "{url}" -O {dst_dir} --fuzzy -c
    elif 'huggingface' in url:
        if '/blob/' in url:
            url = url.replace('/blob/', '/resolve/')
        if file_name:
            !aria2c --optimize-concurrent-downloads --console-log-level=error --summary-interval=10 --header={user_header} -c -j5 -x16 -s16 -k1M  -d {dst_dir} -o {basename} {url}
        else:
            parsed_link = '\n{}\n\tout={}'.format(url, unquote(url.split('/')[-1]))
            !echo -e "{parsed_link}" | aria2c --header={user_header} --console-log-level=error --summary-interval=10 -i- -j5 -x16 -s16 -k1M -c -d "{dst_dir}" -o  {basename}
    elif 'http' in url or 'magnet' in url:
        if file_name:
            !aria2c --optimize-concurrent-downloads --console-log-level=error --summary-interval=10 -j5 -x16 -s16 -k1M -c -d {dst_dir} -o {file_name} {url}
        else:
            parsed_link = '"{}"'.format(url)
            !aria2c --optimize-concurrent-downloads --console-log-level=error --summary-interval=10 -j5 -x16 -s16 -k1M -c -d {dst_dir} -Z {parsed_link}

def download(url):
    links_and_paths = url.split(',')
    !mkdir -p {models_dir} {vaes_dir} {embeddings_dir} {loras_dir} {control_dir}

    for link_or_path in links_and_paths:
        link_or_path = link_or_path.strip()
        if not link_or_path:
            continue

        if any(link_or_path.startswith(prefix.lower()) for prefix in prefixes):
            handle_manual(link_or_path)
            continue

        separator_index = link_or_path.find(' : ')
        url = link_or_path[:separator_index].strip()
        file_name = link_or_path[separator_index + 3:].strip()

        if "control_" in file_name:
            manual_download(url, control_dir, file_name)
        elif ".vae" in file_name or "vae-" in file_name:
            manual_download(url, vaes_dir, file_name)
        else:
            manual_download(url, models_dir, file_name)

submodels = []

def add_submodels(selection, num_selection, model_dict):
    if selection != "none":
        res = model_dict[selection]
        selected_nums = [int(num) for num in num_selection.replace(',', '').split()]
        selected_models = []
        for num in selected_nums:
            if 0 < num <= len(model_dict.keys()):
                name = list(model_dict.keys())[num - 1]
                selected_models += model_dict[name]
        for model in selected_models:
            if model not in res:
                res.append(model)
        return res
    return []

submodels += add_submodels(Model, Model_Num, model_list)
submodels += add_submodels(Vae, Vae_Num, vae_list)
submodels += add_submodels(controlnet, controlnet_Num, controlnet_model_list)

for submodel in submodels:
    if not Inpainting_Model and "inpainting" in submodel['name']:
        continue

    url += f"{submodel['url']} : {submodel['name']}, "

urls = [Model_url, Vae_url, LoRA_url, Embedding_url, Extensions_url]

for i, prefix in enumerate(prefixes):
    if urls[i]:
        replaced_urls = urls[i].replace(',', ' ')
        split_urls = replaced_urls.split()
        prefixed_urls = [f"{prefix.strip()}{u.strip()}" for u in split_urls if u.strip()]
        if prefixed_urls:
            url += ", ".join(prefixed_urls) + ", "

if detailed_download == "on":
    print("\n\n\033[92m# ====== Detailed Download ====== #\n\033[0m")
    download(url)
    print("\n\033[92m# =============================== #\n\033[97;1m")
else:
    with capture.capture_output() as cap:
        download(url)
    del cap

print("\r🏁 Download Complete!" + " "*15)


# Cleaning shit after downloading...
with capture.capture_output() as cap:
    !find /home/studio-lab-user/content -name ".ipynb_checkpoints" -type d -exec rm -r {} \;
    !find /home/studio-lab-user/content -name ".aria2" -type d -exec rm -r {} \;
del cap


## Install of Custom extensions
if len(extension_repo) > 0:
    print("✨ Installing custom extensions...", end='', flush=True)
    with capture.capture_output() as cap:
        for repo, repo_name in extension_repo:
            if not repo_name:
                repo_name = repo.split('/')[-1]
            !cd {extensions_dir} \
                && git clone {repo} {repo_name} \
                && cd {repo_name} \
                && git fetch
    del cap
    print(f"\r📦 Installed '{len(extension_repo)}', Custom extensions!")


## List Models and stuff
if detailed_download == "off":
    print("\n\n\033[92mIf you don't see any downloaded files, enable the 'Detailed Downloads' feature in the widget.")

if any(not file.endswith('.txt') for file in os.listdir(models_dir)):
    print("\n\033[92m➤ Models\033[97m")
    !find {models_dir}/ -mindepth 1 ! -name '*.txt' -printf '%f\n'
if any(not file.endswith('.txt') for file in os.listdir(vaes_dir)):
    print("\n\033[92m➤ VAEs\033[97m")
    !find {vaes_dir}/ -mindepth 1 ! -name '*.txt' -printf '%f\n'
if any(not file.endswith('.txt') and not os.path.isdir(os.path.join(embeddings_dir, file)) for file in os.listdir(embeddings_dir)):
    print("\n\033[92m➤ Embeddings\033[97m")
    !find {embeddings_dir}/ -mindepth 1 -maxdepth 1 \( -name '*.pt' -or -name '*.safetensors' \) -printf '%f\n'
if any(not file.endswith('.txt') for file in os.listdir(loras_dir)):
    print("\n\033[92m➤ LoRAs\033[97m")
    !find {loras_dir}/ -mindepth 1 ! -name '*.keep' -printf '%f\n'
print(f"\n\033[92m➤ Extensions\033[97m")
!find {extensions_dir}/ -mindepth 1 -maxdepth 1 ! -name '*.txt' -printf '%f\n'
if any(not file.endswith('.txt') for file in os.listdir(control_dir)):
    print("\n\033[92m➤ ControlNet\033[97m")
    # !find {control_dir}/ -mindepth 1 ! -name '*.yaml' -printf '%f\n'
    !find {control_dir}/ -mindepth 1 ! -name '*.yaml' -printf '%f\n' | sed 's/^[^_]*_[^_]*_[^_]*_\(.*\)_fp16\.safetensors$/\1/'


# Сleaning
with capture.capture_output() as cap:
    !rm -rf /opt/amazon/sagemaker/safemode-home/.conda/envs/studiolab-safemode
    !rm -rf /opt/conda/envs/sagemaker-distribution
    !pip cache purge
    !rm -rf ~/.cache
del cap


# membuat symlink ke folder sementara
print("\n\033[92m➤ Mempersiapkan folder 🗑️\033[97m")
!rm -rf /home/studio-lab-user/content/sdw/models/Stable-diffusion/tmp_models
!rm -rf /home/studio-lab-user/content/sdw/models/Lora/tmp_Lora
!rm -rf /home/studio-lab-user/content/sdw/models/tmp_VAE
!ln -vs /tmp ~/tmp
!ln -vs /tmp/models /home/studio-lab-user/content/sdw/models/Stable-diffusion/tmp_models
!ln -vs /tmp/Lora /home/studio-lab-user/content/sdw/models/Lora/tmp_Lora
!ln -vs /tmp/VAE /home/studio-lab-user/content/sdw/models/VAE/tmp_VAE

!mkdir -p /tmp/models
!mkdir -p /tmp/Lora
!mkdir -p /tmp/VAE

#Untuk download lora aja sih
import os
from tqdm import tqdm
from colablib.utils.git_utils import clone_repo
from colablib.colored_print import cprint as cp
from urllib.parse import urlparse
from IPython.display import clear_output
from colablib.sd_models.downloader import aria2_download as download
import requests
import sys
print("\n\033[92m➤ Mempersiapkan Lora tambahan\033[97m")
def downloading(download_dir=None, url=None, quiet=True):
    try:
        if url.find("https://civitai.com/")!=-1:
            convert = "" + url.replace("download/models", "v1/model-versions")
            req = requests.get(convert, stream=True)
            path = req.json()['files'][0]['name']
            size = int(req.json()['files'][0]['sizeKB'])/1e+9
            imgurl = req.json()['images'][0]['url']
            namepath = os.path.splitext(path)[0]
            imgpath = f"{namepath}.preview.png"
            if not os.path.exists(f"{download_dir}/{path}"):
                download(download_dir, path, url, quiet=True)
                download(download_dir, imgpath, imgurl, quiet=True)
            else:
                pass
        else:
            parse = urlparse(url)
            path = os.path.basename(parse.path)
            convert = url.replace('resolve', 'raw')
            req = requests.get(convert, stream=True).text
            size = int(req.split("size ",1)[1])/1e+9
            if not os.path.exists(f"{download_dir}/{path}"):
                download(download_dir, path, url, quiet=True)
            else:
                pass
    except:
            cp('Tunggu bentar', color='red')

           
        
or_Any_URL = "https://civitai.com/api/download/models/62833" #@param {type:"string"}
cpoint = None
cpointurl = None

if or_Any_URL:
    cpointurl=or_Any_URL
else:
    pass

for lora in tqdm ([cpoint, cpointurl], desc=cp("Masukin Lora Tambahan", color="flat_green")):
    downloading(url=cpoint, download_dir=f"{loras_dir}/tmp_Lora")
    if or_Any_URL == "":
        pass
    else:
        downloading(url=cpointurl, download_dir=f"{loras_dir}/tmp_Lora")
        
    
    
    
start_colab = float(open('/home/studio-lab-user/content/sdw/static/colabTimer.txt', 'r').read())
time_since_start = str(timedelta(seconds=time.time()-start_colab)).split('.')[0]
print(f"\n⌚️ \033[96;1mTotal Waktu yang terpakai -  \033[93;2m{time_since_start}\033[96m\n\n")