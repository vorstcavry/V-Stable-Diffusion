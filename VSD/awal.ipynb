################################################################################################################################
#loading
################################################################################################################################
load_screen = True


################################################################################################################################
# ================= MAIN CODE =================
################################################################################################################################
!mkdir -p /home/studio-lab-user/content
import os
import json
import ipywidgets as widgets
from ipywidgets import Label, Button, VBox, HBox
from IPython.display import display, HTML, clear_output

style = {'description_width': 'initial'}
layout = widgets.Layout(min_width='1050px')
SETTINGS_FILE = '/home/studio-lab-user/content/settings_vorstcavry.json'
################################################################################################################################
# ==================== CSS + LS ====================
################################################################################################################################
CSS = '''
<style>
/* General Styles */

.header {
    font-family: arial;
    font-size: 20px;
    font-weight: bold;
    color: #80fdff;
    margin-bottom: 10px;
    user-select: none;
    cursor: default;
}

hr {
    border-color: grey;
    background-color: grey;
    opacity: 0.25;
}


/* Container style */

.container {
    background-color: #232323;
    width: 1080px;
    padding: 15px;
    border-radius: 15px;
    box-shadow: 0 0 50px rgba(0, 0, 0, 0.3);
    margin-bottom: 5px;
    overflow: visible;
}

.container::after {
    position: absolute;
    top: 5px;
    right: 10px;
    content: "VORST CAVRY";
    font-weight: bold;
    font-size: 24px;
    color: rgba(0, 0, 0, 0.15);
}

.container_custom_downlad {
    max-height: 60px;
    transition: max-height 0.8s ease-in-out;
    overflow: hidden;
}

.container_custom_downlad:hover {
    max-height: 500px;
    transition-delay: 0.3s;
}


/* Element text style */

.widget-html,
.widget-button,
.widget-text label,
.widget-checkbox label,
.widget-dropdown label,
.widget-dropdown select,
.widget-text input[type="text"] {
    font-family: arial;
    font-size: 14px;
    color: white !important;
    user-select: none;
}

.widget-text input[type="text"]::placeholder {
    color: grey;
}


/* Input field styles */

.widget-dropdown select,
.widget-text input[type="text"] {
    height: 30px;
    background-color: #1c1c1c;
    border: 1px solid #262626;
    border-radius: 10px;
    box-shadow: inset 0 0 5px rgba(0, 0, 0, 0.5);
    transition: all 0.3s ease-in-out;
}

.widget-dropdown select:focus,
.widget-text input[type="text"]:focus {
    border-color: #006ee5;
}

.widget-dropdown select:hover,
.widget-text input[type="text"]:hover {
    transform: scale(1.003);
    background-color: #262626;
    box-shadow: inset 0 0 10px rgba(0, 0, 0, 0.5);
}


/* Button styles */

.button_save {
    font-size: 15px;
    font-weight: bold;
    width: 120px;
    height: 35px;
    border-radius: 15px;
    background-image: radial-gradient(circle at top left, blue 10%, blue 90%);
    background-size: 200% 200%;
    background-position: left bottom;
    transition: background 0.5s ease-in-out, transform 0.3s ease;
}

.button_save:hover {
    cursor: pointer;
    background-image: radial-gradient(circle at top left, blue 10%, Cyan 90%);
    background-size: 200% 200%;
    background-position: right bottom;
    transform: translateY(1px);
}

.button_ngrok {
    font-size: 12px;
    background-image: radial-gradient(circle at top left, blue 10%, Cyan 90%);
    background-size: 200% 200%;
    background-position: left bottom;
    border-radius: 10px;
    padding: 1px 12px;
    height: 30px;
    transition: background 0.5s ease-in-out, transform 0.3s ease;
    white-space: nowrap;
}

.button_ngrok:hover  {
    cursor: pointer;
    background-image: radial-gradient(circle at top left, blue 10%, Cyan 90%);
    background-size: 200% 200%;
    background-position: right bottom;
    transform: translateY(1px);
}

.button_save:active,
.button_ngrok:active {
    filter: brightness(0.75);
}


/* Popup style of `FAQ` window */

.info {
    position: absolute;
    top: -9px;
    right: 95px;
    color: grey;
    font-family: arial;
    font-size: 14px;
    font-weight: normal;
    user-select: none;
    cursor: default;
    opacity: 0;
    pointer-events: none;
    transition: opacity 0.3s ease-in-out;
}

.popup {
    position: absolute;
    top: 120px;
    z-index: 999;
    width: auto;
    padding: 10px;
    text-align: center;
    background-color: rgba(255, 255, 255, 0.05);
    backdrop-filter: blur(12px);
    border: 1px solid rgba(255, 255, 255, 0.45);
    border-radius: 8px;
    box-shadow: 0 0 50px rgba(0, 0, 0, 0.5);
    opacity: 0;
    color: #fff;
    font-size: 16px;
    font-family: arial;
    user-select: none;
    cursor: default;
    pointer-events: none;
    transform: rotate(-5deg);
    transition: top 0.3s ease-in-out, opacity 0.3s ease-in-out, transform 0.3s ease-in-out;
}

.sample {
    display: inline-block;
    margin-top: 25px;
    padding: 10px 100px;
    background-color: rgba(255, 255, 255, 0.2);
    color: #c6e2ff;
    border: 2px solid rgba(255, 255, 255, 0.2);
    border-radius: 8px;
    box-shadow: 0 0 10px rgba(255, 255, 255, 0.2), inset 0 0 25px rgba(255, 255, 255, 0.2);
}

.container_custom_downlad:hover .info {
    opacity: 1;
    pointer-events: initial;
}

.info:hover + .popup {
    top: 35px;
    opacity: 1;
    pointer-events: initial;
    transform: rotate(0deg);
}


/* Animation of elements */

.container,
.button_save {
    animation-name: slideInLeftBlur;
    animation-duration: 1s;
}

@keyframes slideInLeftBlur {
    0% {
        transform: translate3d(-65%, 15%, 0) scale(0) rotate(15deg);
        filter: blur(25px) grayscale(1) brightness(0.3);
        opacity: 0;
    }
    100% {
        transform: translate3d(0, 0, 0) scale(1) rotate(0deg);
        filter: blur(0) grayscale(0) brightness(1);
        opacity: 1;
    }
}


/* SageMaker Style BETA */

/* Makes the corners of the `Cell Hidden` button and context menu more rounded. */
.lm-Menu,
.jp-showHiddenCellsButton {
    border-radius: 15px;
    box-shadow: inset 0 0 10px rgba(0, 0, 0, 0.35) !important;
}

/* Removes ugly stroke from widget buttons. */
.jupyter-widgets.lm-Widget:focus {
    outline: none;
}
</style>
'''


# Loading Screen Code
LSC = """
<div id="loading-screen" style="display: flex; align-items: center; justify-content: center; position: fixed; top: 0; left: 0; z-index: 9999; width: 85vw; height: 100vh; background-color: rgba(0,0,0,0.55); backdrop-filter: blur(5px) grayscale(1); pointer-events: none; opacity: 0; transition: opacity 0.5s;">
    <p style="text-align: center; font-family: arial; font-size: 65px; color: white;">Tunggu Sebentar...</p>
</div>

<script>
function showLoadingScreen() {
   let loadingScreen = document.getElementById('loading-screen');
   loadingScreen.style.opacity = '1';
}
setTimeout(showLoadingScreen, 200);
</script>
"""

if load_screen:
    display(HTML(LSC))

display(HTML(CSS))
# ==================== CSS ====================


# ==================== WIDGETS ====================
# --- MODEL ---
model_header = widgets.HTML('<div class="header">Pilih Model<div>')
model_options = ['none',
                 '1.SomethingV2_2',
                 '2.Aingdiffusion',
                 '3.Counterfeit [Anime] [V3] + INP',
                 '4.ChilloutMix',
                 '5.Dark-Sushi-Mix [Anime]',
                 '6.Meina-Mix [Anime] [V11] + INP',
                 '7.Mix-Pro [Anime] [V4] + INP',
                 '8.MajicmixRealistic V6',
                 '9.FuzzyHazel']
# ---
Model_widget = widgets.Dropdown(options=model_options, value='1.SomethingV2_2', description='Model:', style=style, layout=layout)
Model_Num_widget = widgets.Text(description='Model Number:', placeholder='Masukkan nomor model yang akan diunduh dengan menggunakan koma/spasi.', style=style, layout=layout)   
Inpainting_Model_widget = widgets.Checkbox(value=False, description='Inpainting Models', style=style)

display(widgets.VBox([model_header, Model_widget, Model_Num_widget, Inpainting_Model_widget]).add_class("container"))

# --- VAE ---
vae_header = widgets.HTML('<div class="header">Pilih VAE</div>')
vae_options = ['none', '1.Anything.vae', "2.blessed2.vae", "3.WD.vae"]
Vae_widget = widgets.Dropdown(options=vae_options, value='2.blessed2.vae', description='Vae:', style=style, layout=layout)
Vae_Num_widget = widgets.Text(description='Vae number:', placeholder='Masukkan nomor vae yang akan diunduh dengan menggunakan koma/spasi.', style=style, layout=layout)

display(widgets.VBox([vae_header, Vae_widget, Vae_Num_widget]).add_class("container"))

# --- ADDITIONAL ---
additional_header = widgets.HTML('<div class="header">Additional</div>')
latest_webui_widget = widgets.Checkbox(value=True, description='Update WebUI', style=style)
latest_exstensions_widget = widgets.Checkbox(value=True, description='Update Extensions', style=style)
webui_branch_options = ['master', 'release_candidate', 'dev']
webui_branch_widget = widgets.Dropdown(options=webui_branch_options, value='master', description='WebUI Branch:', style=style)
detailed_download_widget = widgets.Dropdown(options=['off', 'on'], value='off', description='Detailed Download:', style=style)
latest_changes_widget = HBox([latest_webui_widget, latest_exstensions_widget, webui_branch_widget, detailed_download_widget], layout=widgets.Layout(justify_content='space-between'))
controlnet_options = ["none", "1.canny",
                      "2.openpose", "3.depth",
                      "4.normal_map", "5.mlsd",
                      "6.lineart", "7.soft_edge",
                      "8.scribble", "9.segmentation",
                      "10.shuffle", "11.tile",
                      "12.inpaint", "13.instruct_p2p"]
# --- 
controlnet_widget = widgets.Dropdown(options=controlnet_options, value='none', description='ControlNet:', style=style, layout=layout)
controlnet_Num_widget = widgets.Text(description='ControlNet Number:', placeholder='Masukkan nomor model ControlNet yang akan diunduh dengan menggunakan koma/spasi.', style=style, layout=layout)
commit_hash_widget = widgets.Text(description='Commit Hash:', style=style, layout=layout)
ngrok_token_widget = widgets.Text(description='Ngrok token:', placeholder='Masukkan token Ngrok Anda | WAJIB!', style=style, layout=widgets.Layout(width='1047px'))
ngrock_button = widgets.HTML('<a href="https://dashboard.ngrok.com/get-started/your-authtoken" target="_blank">Dapatkan Token Ngrok</a>').add_class("button_ngrok")
ngrok_widget = widgets.HBox([ngrok_token_widget, ngrock_button], style=style, layout=layout)
# --- 
commandline_arguments_options = "--listen --enable-insecure-extension-access --theme dark --no-half-vae --disable-console-progressbars --xformers"
commandline_arguments_widget = widgets.Text(description='Arguments:', value=commandline_arguments_options, style=style, layout=layout)

display(widgets.VBox([additional_header, latest_changes_widget, widgets.HTML('<hr>'), controlnet_widget, controlnet_Num_widget, commit_hash_widget, ngrok_widget, widgets.HTML('<hr>'), commandline_arguments_widget]).add_class("container"))

# --- CUSTOM DOWNLOAD ---

custom_download_header = widgets.HTML('<div class="header">Custom Download</div>')
custom_download_notation = widgets.HTML(value='<div class="notation">Penjelasan: Isi kolom URL dengan tautan ke file yang ingin kalian Masukan. Pisahkan beberapa URL dengan koma/spasi.</div>')
Model_url_widget = widgets.Text(description='Model:', style=style, layout=layout)
Vae_url_widget = widgets.Text(description='Vae:', style=style, layout=layout)
LoRA_url_widget = widgets.Text(description='LoRA:', style=style, layout=layout)
Embedding_url_widget = widgets.Text(description='Embedding:', style=style, layout=layout)
Extensions_url_widget = widgets.Text(description='Extensions:', style=style, layout=layout)

display(widgets.VBox([custom_download_header, custom_download_notation, Model_url_widget, Vae_url_widget, LoRA_url_widget, Embedding_url_widget, Extensions_url_widget]).add_class("container").add_class("container_custom_downlad"))
#
# --- Save Button ---
save_button = widgets.Button(description='Save').add_class("button_save")
display(save_button)


# ============ Load / Save - Settings V2 ============
settings_keys = [
    'Model', 'Model_Num', 'Inpainting_Model',
    'Vae', 'Vae_Num',
    'latest_webui', 'latest_exstensions', 'webui_branch', 'detailed_download',
    'controlnet', 'controlnet_Num', 'commit_hash',
    'ngrok_token', 'commandline_arguments',
    'Model_url', 'Vae_url', 'LoRA_url', 'Embedding_url', 'Extensions_url'
]

def save_settings():
    settings = {key: globals()[f"{key}_widget"].value for key in settings_keys}
    with open(SETTINGS_FILE, 'w') as f:
        json.dump(settings, f)

def load_settings():
    if os.path.exists(SETTINGS_FILE):
        with open(SETTINGS_FILE, 'r') as f:
            settings = json.load(f)
            for key in settings_keys:
                globals()[f"{key}_widget"].value = settings.get(key)

def save_data(button):
    save_settings()
    widgets.Widget.close_all()

settings = load_settings()
save_button.on_click(save_data)


# ============ Remove Loading Screen ============
RLS = '''
<script>
function hideLoadingScreen() {
   let loadingScreen = document.getElementById('loading-screen');
   loadingScreen.style.opacity = '0';
   setTimeout(function(){ loadingScreen.style.display = "none"; }, 500);
}
setTimeout(hideLoadingScreen, 500);
</script>
'''

if load_screen:
    display(HTML(RLS))